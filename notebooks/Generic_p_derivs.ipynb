{
 "cells": [
  {
   "cell_type": "code",
   "execution_count": 32,
   "id": "13be612d",
   "metadata": {},
   "outputs": [],
   "source": [
    "import sympy as sy\n",
    "rho, R, Trecip,T = sy.symbols('rho,R,(1/T),T')\n",
    "alphar = sy.symbols('alphar', cls=sy.Function)(Trecip, rho)\n",
    "p = rho*R/Trecip*(1 + rho*sy.diff(alphar,rho))\n",
    "dTrecip_dT = -1/T**2\n",
    "\n",
    "sy.simplify(sy.diff(p,rho,3).replace(Trecip,1/T))\n",
    "\n",
    "sy.simplify(sy.diff(sy.diff(p,rho,1),Trecip)*dTrecip_dT)\n",
    "\n",
    "sy.simplify(sy.diff(sy.diff(p,rho,2),Trecip)*dTrecip_dT)"
   ]
  }
 ],
 "metadata": {
  "kernelspec": {
   "display_name": "Python 3 (ipykernel)",
   "language": "python",
   "name": "python3"
  },
  "language_info": {
   "codemirror_mode": {
    "name": "ipython",
    "version": 3
   },
   "file_extension": ".py",
   "mimetype": "text/x-python",
   "name": "python",
   "nbconvert_exporter": "python",
   "pygments_lexer": "ipython3",
   "version": "3.10.4"
  }
 },
 "nbformat": 4,
 "nbformat_minor": 5
}
