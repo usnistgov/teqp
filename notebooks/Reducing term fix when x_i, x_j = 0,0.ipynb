{
 "cells": [
  {
   "cell_type": "code",
   "execution_count": 126,
   "id": "4a921578",
   "metadata": {},
   "outputs": [
    {
     "data": {
      "text/latex": [
       "$\\displaystyle \\frac{x_{i} x_{j} \\left(x_{i} + x_{j}\\right)}{betaY_{2} x_{i} + x_{j}}$"
      ],
      "text/plain": [
       "x_i*x_j*(x_i + x_j)/(betaY2*x_i + x_j)"
      ]
     },
     "metadata": {},
     "output_type": "display_data"
    },
    {
     "data": {
      "text/latex": [
       "$\\displaystyle 2.92682926829268 \\cdot 10^{-20}$"
      ],
      "text/plain": [
       "2.92682926829268e-20"
      ]
     },
     "metadata": {},
     "output_type": "display_data"
    },
    {
     "name": "stdout",
     "output_type": "stream",
     "text": [
      "Derivatives do not agree: 2*(betaY2**2 - betaY2)/((betaY2 + 1)*(betaY2**2 + 2*betaY2 + 1)) 0\n"
     ]
    },
    {
     "ename": "AssertionError",
     "evalue": "",
     "output_type": "error",
     "traceback": [
      "\u001b[0;31m---------------------------------------------------------------------------\u001b[0m",
      "\u001b[0;31mAssertionError\u001b[0m                            Traceback (most recent call last)",
      "Cell \u001b[0;32mIn [126], line 27\u001b[0m\n\u001b[1;32m     24\u001b[0m display(val)\n\u001b[1;32m     26\u001b[0m deg1terms \u001b[38;5;241m=\u001b[39m [chk0(diff(fYij, x_i, \u001b[38;5;241m1\u001b[39m))\u001b[38;5;241m*\u001b[39mx_i\u001b[38;5;241m/\u001b[39mfactorial(\u001b[38;5;241m1\u001b[39m), chk0(diff(fYij, x_j, \u001b[38;5;241m1\u001b[39m))\u001b[38;5;241m*\u001b[39mx_j\u001b[38;5;241m/\u001b[39mfactorial(\u001b[38;5;241m1\u001b[39m)]\n\u001b[0;32m---> 27\u001b[0m deg2terms \u001b[38;5;241m=\u001b[39m [\u001b[43mchk0\u001b[49m\u001b[43m(\u001b[49m\u001b[43mdiff\u001b[49m\u001b[43m(\u001b[49m\u001b[43mfYij\u001b[49m\u001b[43m,\u001b[49m\u001b[43m \u001b[49m\u001b[43mx_j\u001b[49m\u001b[43m,\u001b[49m\u001b[43m \u001b[49m\u001b[38;5;241;43m2\u001b[39;49m\u001b[43m)\u001b[49m\u001b[43m)\u001b[49m\u001b[38;5;241m*\u001b[39mx_j\u001b[38;5;241m*\u001b[39m\u001b[38;5;241m*\u001b[39m\u001b[38;5;241m2\u001b[39m\u001b[38;5;241m/\u001b[39mfactorial(\u001b[38;5;241m2\u001b[39m), chk0(diff(diff(fYij, x_j, \u001b[38;5;241m1\u001b[39m), x_i, \u001b[38;5;241m1\u001b[39m))\u001b[38;5;241m*\u001b[39mx_j\u001b[38;5;241m*\u001b[39mx_i, chk0(diff(fYij, x_i, \u001b[38;5;241m2\u001b[39m))\u001b[38;5;241m*\u001b[39mx_i\u001b[38;5;241m*\u001b[39m\u001b[38;5;241m*\u001b[39m\u001b[38;5;241m2\u001b[39m\u001b[38;5;241m/\u001b[39mfactorial(\u001b[38;5;241m2\u001b[39m)]\n\u001b[1;32m     28\u001b[0m deg3terms \u001b[38;5;241m=\u001b[39m [\n\u001b[1;32m     29\u001b[0m     chk0(diff(fYij, x_j, \u001b[38;5;241m3\u001b[39m))\u001b[38;5;241m*\u001b[39mx_j\u001b[38;5;241m*\u001b[39m\u001b[38;5;241m*\u001b[39m\u001b[38;5;241m3\u001b[39m\u001b[38;5;241m/\u001b[39mfactorial(\u001b[38;5;241m3\u001b[39m)\n\u001b[1;32m     30\u001b[0m   \u001b[38;5;241m+\u001b[39m chk0(diff(diff(fYij, x_j, \u001b[38;5;241m1\u001b[39m), x_i, \u001b[38;5;241m2\u001b[39m))\u001b[38;5;241m*\u001b[39mx_j\u001b[38;5;241m*\u001b[39mx_i\u001b[38;5;241m*\u001b[39m\u001b[38;5;241m*\u001b[39m\u001b[38;5;241m2\u001b[39m\u001b[38;5;241m/\u001b[39mfactorial(\u001b[38;5;241m2\u001b[39m)\n\u001b[1;32m     31\u001b[0m   \u001b[38;5;241m+\u001b[39m chk0(diff(diff(fYij, x_j, \u001b[38;5;241m2\u001b[39m), x_i, \u001b[38;5;241m1\u001b[39m))\u001b[38;5;241m*\u001b[39mx_j\u001b[38;5;241m*\u001b[39m\u001b[38;5;241m*\u001b[39m\u001b[38;5;241m2\u001b[39m\u001b[38;5;241m*\u001b[39mx_i\u001b[38;5;241m/\u001b[39mfactorial(\u001b[38;5;241m2\u001b[39m) \n\u001b[1;32m     32\u001b[0m   \u001b[38;5;241m+\u001b[39m chk0(diff(fYij, x_i, \u001b[38;5;241m3\u001b[39m))\u001b[38;5;241m*\u001b[39mx_i\u001b[38;5;241m*\u001b[39m\u001b[38;5;241m*\u001b[39m\u001b[38;5;241m3\u001b[39m\u001b[38;5;241m/\u001b[39mfactorial(\u001b[38;5;241m3\u001b[39m)\n\u001b[1;32m     33\u001b[0m ]\n\u001b[1;32m     34\u001b[0m on1st \u001b[38;5;241m=\u001b[39m \u001b[38;5;28msum\u001b[39m(deg1terms)\n",
      "Cell \u001b[0;32mIn [126], line 20\u001b[0m, in \u001b[0;36mchk0\u001b[0;34m(x)\u001b[0m\n\u001b[1;32m     18\u001b[0m \u001b[38;5;28;01mif\u001b[39;00m L \u001b[38;5;241m!=\u001b[39m S:\n\u001b[1;32m     19\u001b[0m     \u001b[38;5;28mprint\u001b[39m(\u001b[38;5;124m'\u001b[39m\u001b[38;5;124mDerivatives do not agree:\u001b[39m\u001b[38;5;124m'\u001b[39m, L, S)\n\u001b[0;32m---> 20\u001b[0m \u001b[38;5;28;01massert\u001b[39;00m(L\u001b[38;5;241m==\u001b[39mS)\n\u001b[1;32m     21\u001b[0m \u001b[38;5;28;01mreturn\u001b[39;00m L\n",
      "\u001b[0;31mAssertionError\u001b[0m: "
     ]
    }
   ],
   "source": [
    "# https://en.wikipedia.org/wiki/Taylor%27s_theorem#Example_in_two_dimensions\n",
    "from sympy import *\n",
    "x_i, x_j, betaY2 = symbols('x_i, x_j, betaY2')\n",
    "\n",
    "fYij = x_i*x_j*(x_i+x_j)/(betaY2*x_i + x_j)\n",
    "display(fYij)\n",
    "\n",
    "def dosub(x):\n",
    "    return x.subs(x_i, 1e-10).subs(x_j,3e-10).subs(betaY2, 1.1)\n",
    "def sub0(x):\n",
    "    return x.subs([(x_i, 0), (x_j,0)])\n",
    "def lim0(x):\n",
    "    return limit(x.subs([(x_i, x_j), ]), x_j, 0)\n",
    "\n",
    "def chk0(x):\n",
    "    L = lim0(x)\n",
    "    S = sub0(x)\n",
    "    if L != S:\n",
    "        print('Derivatives do not agree:', L, S)\n",
    "    assert(L==S)\n",
    "    return L\n",
    "\n",
    "val = dosub(fYij)\n",
    "display(val)\n",
    "\n",
    "deg1terms = [chk0(diff(fYij, x_i, 1))*x_i/factorial(1), chk0(diff(fYij, x_j, 1))*x_j/factorial(1)]\n",
    "deg2terms = [chk0(diff(fYij, x_j, 2))*x_j**2/factorial(2), chk0(diff(diff(fYij, x_j, 1), x_i, 1))*x_j*x_i, chk0(diff(fYij, x_i, 2))*x_i**2/factorial(2)]\n",
    "deg3terms = [\n",
    "    chk0(diff(fYij, x_j, 3))*x_j**3/factorial(3)\n",
    "  + chk0(diff(diff(fYij, x_j, 1), x_i, 2))*x_j*x_i**2/factorial(2)\n",
    "  + chk0(diff(diff(fYij, x_j, 2), x_i, 1))*x_j**2*x_i/factorial(2) \n",
    "  + chk0(diff(fYij, x_i, 3))*x_i**3/factorial(3)\n",
    "]\n",
    "on1st = sum(deg1terms)\n",
    "display(deg1terms)\n",
    "on2nd = sum(deg2terms)\n",
    "display(deg2terms)\n",
    "on3rd = sum(deg3terms)\n",
    "display(deg3terms)"
   ]
  },
  {
   "cell_type": "code",
   "execution_count": 2,
   "id": "2bf214b0",
   "metadata": {},
   "outputs": [
    {
     "data": {
      "text/latex": [
       "$\\displaystyle 0$"
      ],
      "text/plain": [
       "0"
      ]
     },
     "metadata": {},
     "output_type": "display_data"
    },
    {
     "data": {
      "text/latex": [
       "$\\displaystyle x_{i}^{2} \\cdot \\left(1 - betaY_{2}\\right) + x_{i} x_{j}$"
      ],
      "text/plain": [
       "x_i**2*(1 - betaY2) + x_i*x_j"
      ]
     },
     "metadata": {},
     "output_type": "display_data"
    },
    {
     "data": {
      "text/latex": [
       "$\\displaystyle \\tilde{\\infty} betaY_{2} x_{i}^{3} \\left(betaY_{2} - 1\\right) + x_{i}^{2} \\cdot \\left(1 - betaY_{2}\\right) + x_{i} x_{j}$"
      ],
      "text/plain": [
       "zoo*betaY2*x_i**3*(betaY2 - 1) + x_i**2*(1 - betaY2) + x_i*x_j"
      ]
     },
     "metadata": {},
     "output_type": "display_data"
    }
   ],
   "source": [
    "def Taylor_polynomial_sympy(function_expression, variable_list, evaluation_point, degree):\n",
    "    \"\"\"\n",
    "    Mathematical formulation reference:\n",
    "    https://math.libretexts.org/Bookshelves/Calculus/Supplemental_Modules_(Calculus)/Multivariable_Calculus/3%3A_Topics_in_Partial_Derivatives/Taylor__Polynomials_of_Functions_of_Two_Variables\n",
    "    :param function_expression: Sympy expression of the function\n",
    "    :param variable_list: list. All variables to be approximated (to be \"Taylorized\")\n",
    "    :param evaluation_point: list. Coordinates, where the function will be expressed\n",
    "    :param degree: int. Total degree of the Taylor polynomial\n",
    "    :return: Returns a Sympy expression of the Taylor series up to a given degree, of a given multivariate expression, approximated as a multivariate polynomial evaluated at the evaluation_point\n",
    "    \"\"\"\n",
    "    from sympy import factorial, Matrix, prod\n",
    "    import itertools\n",
    "\n",
    "    n_var = len(variable_list)\n",
    "    point_coordinates = [(i, j) for i, j in (zip(variable_list, evaluation_point))]  # list of tuples with variables and their evaluation_point coordinates, to later perform substitution\n",
    "\n",
    "    deriv_orders = list(itertools.product(range(degree + 1), repeat=n_var))  # list with exponentials of the partial derivatives\n",
    "    deriv_orders = [deriv_orders[i] for i in range(len(deriv_orders)) if sum(deriv_orders[i]) <= degree]  # Discarding some higher-order terms\n",
    "    n_terms = len(deriv_orders)\n",
    "    deriv_orders_as_input = [list(sum(list(zip(variable_list, deriv_orders[i])), ())) for i in range(n_terms)]  # Individual degree of each partial derivative, of each term\n",
    "\n",
    "    polynomial = 0\n",
    "    for i in range(n_terms):\n",
    "        partial_derivatives_at_point = function_expression.diff(*deriv_orders_as_input[i]).subs(point_coordinates)  # e.g. df/(dx*dy**2)\n",
    "        denominator = prod([factorial(j) for j in deriv_orders[i]])  # e.g. (1! * 2!)\n",
    "        distances_powered = prod([(Matrix(variable_list) - Matrix(evaluation_point))[j] ** deriv_orders[i][j] for j in range(n_var)])  # e.g. (x-x0)*(y-y0)**2\n",
    "        polynomial += partial_derivatives_at_point / denominator * distances_powered\n",
    "    return polynomial\n",
    "\n",
    "for i in [1,2,3]:\n",
    "    display(Taylor_polynomial_sympy(fYij, [x_i, x_j], [0,0], i))\n",
    "# dosub(Taylor_polynomial_sympy(fYij, [x_i, x_j], [0,0], 3))"
   ]
  },
  {
   "cell_type": "code",
   "execution_count": 88,
   "id": "d1ea45a0",
   "metadata": {},
   "outputs": [
    {
     "data": {
      "text/plain": [
       "0.9513011553827879"
      ]
     },
     "metadata": {},
     "output_type": "display_data"
    },
    {
     "data": {
      "text/latex": [
       "$\\displaystyle 0.951301155382788$"
      ],
      "text/plain": [
       "0.951301155382788"
      ]
     },
     "metadata": {},
     "output_type": "display_data"
    },
    {
     "data": {
      "text/latex": [
       "$\\displaystyle \\frac{betaY_{2}^{2} + 6 betaY_{2} + 1}{betaY_{2}^{3} + 3 betaY_{2}^{2} + 3 betaY_{2} + 1}$"
      ],
      "text/plain": [
       "(betaY2**2 + 6*betaY2 + 1)/(betaY2**3 + 3*betaY2**2 + 3*betaY2 + 1)"
      ]
     },
     "metadata": {},
     "output_type": "display_data"
    },
    {
     "data": {
      "text/latex": [
       "$\\displaystyle \\frac{betaY_{2}^{2} + 6 betaY_{2} + 1}{betaY_{2}^{3} + 3 betaY_{2}^{2} + 3 betaY_{2} + 1}$"
      ],
      "text/plain": [
       "(betaY2**2 + 6*betaY2 + 1)/(betaY2**3 + 3*betaY2**2 + 3*betaY2 + 1)"
      ]
     },
     "metadata": {},
     "output_type": "display_data"
    }
   ],
   "source": [
    "def fYgerg(x_i, x_j, betaY2):\n",
    "    return (\n",
    "        (x_i+x_j)/(betaY2*x_i + x_j) \n",
    "        + x_j/(betaY2*x_i + x_j)*(1-(x_i+x_j)/(betaY2*x_i + x_j)) \n",
    "        + x_i/(betaY2*x_i + x_j)*(1-betaY2*(x_i+x_j)/(betaY2*x_i + x_j))\n",
    "        - x_i*x_j/(betaY2*x_i + x_j)**2*(1 + betaY2 - 2*betaY2*(x_i+x_j)/(betaY2*x_i+x_j))\n",
    "    )\n",
    "\n",
    "display(fYgerg(1e-12, 1e-12, 1.1), diff(diff(fYij, x_j, 1), x_i, 1).subs([(x_i, 1e-12), (x_j, 1e-12), (betaY2, 1.1)]))\n",
    "display(limit(fYgerg(x_i, x_i, betaY2), x_i, 0.0))\n",
    "display(limit(fYgerg(x_j, x_j, betaY2), x_j, 0.0))"
   ]
  }
 ],
 "metadata": {
  "kernelspec": {
   "display_name": "Python 3 (ipykernel)",
   "language": "python",
   "name": "python3"
  },
  "language_info": {
   "codemirror_mode": {
    "name": "ipython",
    "version": 3
   },
   "file_extension": ".py",
   "mimetype": "text/x-python",
   "name": "python",
   "nbconvert_exporter": "python",
   "pygments_lexer": "ipython3",
   "version": "3.10.6"
  }
 },
 "nbformat": 4,
 "nbformat_minor": 5
}
